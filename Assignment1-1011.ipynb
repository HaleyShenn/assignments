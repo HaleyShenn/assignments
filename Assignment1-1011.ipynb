{
 "cells": [
  {
   "cell_type": "markdown",
   "metadata": {
    "id": "4xdCIs8ddHXi"
   },
   "source": [
    "# Coursework 1 - Banking Regulation\n",
    "1. (50%) The file “Dataset.xlsx” shows the total bond portfolio of a small bank in Ontario and the yield curves for the Canadian Sovereigns for the last 20 years. We will focus in this exercise only on the corporate and sovereign bond market. The bank has been categorized by the OSFI so that it must keep a capital adequacy requirement of 11.5% of its Risk-Weighted Assets. With this information, and assuming the bank does not have any other operations:"
   ]
  },
  {
   "cell_type": "markdown",
   "metadata": {
    "id": "gXF3dYxdda25"
   },
   "source": [
    "### 1(a)(20%) Using the **yield curve at the purchasing date** of the bond, calculate the **spread** the bank used to obtain the bond price."
   ]
  },
  {
   "cell_type": "code",
   "execution_count": 1,
   "metadata": {
    "id": "qIDluBRE0Wg1"
   },
   "outputs": [],
   "source": [
    "# Import the data\n",
    "import pandas as pd\n",
    "import numpy as np\n",
    "bank_loans = pd.read_excel('Dataset2020.xlsx',sheet_name = 0)\n",
    "yield_curves = pd.read_excel('Dataset2020.xlsx',sheet_name = 1)"
   ]
  },
  {
   "cell_type": "code",
   "execution_count": null,
   "metadata": {},
   "outputs": [],
   "source": [
    "# Check types of variables\n",
    "bank_loans.dtypes"
   ]
  },
  {
   "cell_type": "code",
   "execution_count": 3,
   "metadata": {
    "collapsed": true,
    "id": "cuYqN2Rn3FJp",
    "jupyter": {
     "outputs_hidden": true
    }
   },
   "outputs": [
    {
     "data": {
      "text/plain": [
       "Nr                  int64\n",
       "Date       datetime64[ns]\n",
       " 025YR            float64\n",
       " 050YR            float64\n",
       " 075YR            float64\n",
       "                ...      \n",
       " 2900YR           float64\n",
       " 2925YR           float64\n",
       " 2950YR           float64\n",
       " 2975YR           float64\n",
       " 3000YR           float64\n",
       "Length: 122, dtype: object"
      ]
     },
     "execution_count": 3,
     "metadata": {},
     "output_type": "execute_result"
    }
   ],
   "source": [
    "# Check types of variables\n",
    "yield_curves.dtypes"
   ]
  },
  {
   "cell_type": "code",
   "execution_count": 4,
   "metadata": {
    "id": "thZGGmOlA3-T"
   },
   "outputs": [],
   "source": [
    "# For tests only\n",
    "#bank_loans = bank_loans.head(15)"
   ]
  },
  {
   "cell_type": "code",
   "execution_count": 4,
   "metadata": {
    "id": "twoJj6tTmcZJ"
   },
   "outputs": [],
   "source": [
    "# New column: PurchasePrice\n",
    "bank_loans['PriceAtCoupon0(%)'] = bank_loans['PriceAtCoupon0(%)']/100\n",
    "bank_loans['PurchasePrice'] = bank_loans['PriceAtCoupon0(%)'].mul(bank_loans['FaceValue'])"
   ]
  },
  {
   "cell_type": "code",
   "execution_count": 5,
   "metadata": {
    "id": "lwwA0WbUCnM8"
   },
   "outputs": [],
   "source": [
    "# Period Factor:1,4,12\n",
    "bank_loans['PeriodFactor'] = 1\n",
    "bank_loans['PeriodFactor'] = np.where(bank_loans['PaymentPeriod'] == 'Monthly', 12, bank_loans['PeriodFactor'])\n",
    "bank_loans['PeriodFactor'] = np.where(bank_loans['PaymentPeriod'] == 'Quarterly', 4, bank_loans['PeriodFactor'])"
   ]
  },
  {
   "cell_type": "code",
   "execution_count": 6,
   "metadata": {
    "colab": {
     "base_uri": "https://localhost:8080/",
     "height": 246
    },
    "collapsed": true,
    "id": "Bvp_hz4QJ2V2",
    "jupyter": {
     "outputs_hidden": true
    },
    "outputId": "0979c79f-d79a-4422-bc88-6f09ab12a700"
   },
   "outputs": [
    {
     "data": {
      "text/plain": [
       "0     12\n",
       "1     12\n",
       "2      1\n",
       "3      1\n",
       "4      1\n",
       "5     12\n",
       "6      1\n",
       "7     12\n",
       "8     12\n",
       "9     12\n",
       "10     4\n",
       "11     4\n",
       "Name: PeriodFactor, dtype: int64"
      ]
     },
     "execution_count": 6,
     "metadata": {},
     "output_type": "execute_result"
    }
   ],
   "source": [
    "bank_loans['PeriodFactor'].head(12)"
   ]
  },
  {
   "cell_type": "code",
   "execution_count": 7,
   "metadata": {
    "id": "sR8FKQDysTNf"
   },
   "outputs": [
    {
     "data": {
      "text/plain": [
       "175680"
      ]
     },
     "execution_count": 7,
     "metadata": {},
     "output_type": "execute_result"
    }
   ],
   "source": [
    "# n: the number of bonds\n",
    "n = len(bank_loans)\n",
    "n"
   ]
  },
  {
   "cell_type": "code",
   "execution_count": 8,
   "metadata": {
    "id": "btmkTh4gx3Iy"
   },
   "outputs": [],
   "source": [
    "# New column: \"Payments\": all payment terms\n",
    "bank_loans['Payments'] = bank_loans['CouponsRemaining'] + bank_loans['CurrentCoupon']"
   ]
  },
  {
   "cell_type": "code",
   "execution_count": 9,
   "metadata": {
    "colab": {
     "base_uri": "https://localhost:8080/",
     "height": 298
    },
    "collapsed": true,
    "id": "bo2cA7o6yFun",
    "jupyter": {
     "outputs_hidden": true
    },
    "outputId": "3043094a-26b2-467b-ef25-f31ffbc70a5e"
   },
   "outputs": [
    {
     "data": {
      "text/plain": [
       "0         638\n",
       "1         670\n",
       "2          44\n",
       "3          68\n",
       "4          56\n",
       "         ... \n",
       "175675    322\n",
       "175676     93\n",
       "175677    193\n",
       "175678    186\n",
       "175679    367\n",
       "Name: Payments, Length: 175680, dtype: int64"
      ]
     },
     "execution_count": 9,
     "metadata": {},
     "output_type": "execute_result"
    }
   ],
   "source": [
    "bank_loans['Payments']"
   ]
  },
  {
   "cell_type": "code",
   "execution_count": 10,
   "metadata": {
    "id": "3paHfrFcwQCQ"
   },
   "outputs": [],
   "source": [
    "# New column: 'CouponRatePeriod'\n",
    "bank_loans['CouponRatePeriod'] = bank_loans['YearlyRate'] / bank_loans['PeriodFactor']"
   ]
  },
  {
   "cell_type": "code",
   "execution_count": 11,
   "metadata": {
    "colab": {
     "base_uri": "https://localhost:8080/",
     "height": 246
    },
    "collapsed": true,
    "id": "Yupzci_-xDf7",
    "jupyter": {
     "outputs_hidden": true
    },
    "outputId": "13d1451e-655a-4499-d581-c3e0f456989e"
   },
   "outputs": [
    {
     "data": {
      "text/plain": [
       "0     0.011257\n",
       "1     0.013391\n",
       "2     0.190721\n",
       "3     0.092318\n",
       "4     0.121696\n",
       "5     0.009176\n",
       "6     0.151007\n",
       "7     0.008171\n",
       "8     0.007386\n",
       "9     0.008247\n",
       "10    0.019627\n",
       "11    0.032176\n",
       "Name: CouponRatePeriod, dtype: float64"
      ]
     },
     "execution_count": 11,
     "metadata": {},
     "output_type": "execute_result"
    }
   ],
   "source": [
    "bank_loans['CouponRatePeriod'].head(12)"
   ]
  },
  {
   "cell_type": "code",
   "execution_count": 12,
   "metadata": {
    "id": "kTF-TTu-Vjik"
   },
   "outputs": [],
   "source": [
    "yield_curves.set_index('Date',inplace = True)"
   ]
  },
  {
   "cell_type": "code",
   "execution_count": 13,
   "metadata": {
    "id": "f6_4XWUdWTdx"
   },
   "outputs": [],
   "source": [
    "yield_curves = yield_curves.drop('Nr',axis =1)"
   ]
  },
  {
   "cell_type": "code",
   "execution_count": 14,
   "metadata": {
    "id": "tWN_3tE-W6yK"
   },
   "outputs": [],
   "source": [
    "yield_curves.columns = yield_curves.columns.str[:-2]"
   ]
  },
  {
   "cell_type": "code",
   "execution_count": 15,
   "metadata": {
    "id": "myoKACxYYaOt"
   },
   "outputs": [],
   "source": [
    "yield_curves.columns = yield_curves.columns.str[1:]"
   ]
  },
  {
   "cell_type": "code",
   "execution_count": 16,
   "metadata": {
    "id": "EDfNcPa9ZvxL"
   },
   "outputs": [],
   "source": [
    "yield_curves.columns = yield_curves.columns.astype(int) / 100"
   ]
  },
  {
   "cell_type": "code",
   "execution_count": 17,
   "metadata": {
    "colab": {
     "base_uri": "https://localhost:8080/",
     "height": 122
    },
    "id": "vT6d9xE5Z0Ga",
    "outputId": "03d7269b-6d80-4405-cf63-ae60acf15cf5"
   },
   "outputs": [
    {
     "data": {
      "text/plain": [
       "Float64Index([ 0.25,   0.5,  0.75,   1.0,  1.25,   1.5,  1.75,   2.0,  2.25,\n",
       "                2.5,\n",
       "              ...\n",
       "              27.75,  28.0, 28.25,  28.5, 28.75,  29.0, 29.25,  29.5, 29.75,\n",
       "               30.0],\n",
       "             dtype='float64', length=120)"
      ]
     },
     "execution_count": 17,
     "metadata": {},
     "output_type": "execute_result"
    }
   ],
   "source": [
    "yield_curves.columns"
   ]
  },
  {
   "cell_type": "code",
   "execution_count": 18,
   "metadata": {
    "collapsed": true,
    "jupyter": {
     "outputs_hidden": true,
     "source_hidden": true
    }
   },
   "outputs": [
    {
     "data": {
      "text/plain": [
       "DatetimeIndex(['1991-01-02', '1991-01-03', '1991-01-04', '1991-01-07',\n",
       "               '1991-01-08', '1991-01-09', '1991-01-10', '1991-01-11',\n",
       "               '1991-01-14', '1991-01-15',\n",
       "               ...\n",
       "               '2020-08-13', '2020-08-14', '2020-08-17', '2020-08-18',\n",
       "               '2020-08-19', '2020-08-20', '2020-08-21', '2020-08-24',\n",
       "               '2020-08-25', '2020-08-26'],\n",
       "              dtype='datetime64[ns]', name='Date', length=7332, freq=None)"
      ]
     },
     "execution_count": 18,
     "metadata": {},
     "output_type": "execute_result"
    }
   ],
   "source": [
    "yield_curves.index = pd.to_datetime(yield_curves.index)\n",
    "yield_curves.index"
   ]
  },
  {
   "cell_type": "code",
   "execution_count": 19,
   "metadata": {
    "collapsed": true,
    "jupyter": {
     "outputs_hidden": true,
     "source_hidden": true
    }
   },
   "outputs": [
    {
     "data": {
      "text/plain": [
       "0        1994-09-07\n",
       "1        1994-09-07\n",
       "2        1994-09-07\n",
       "3        1994-09-07\n",
       "4        1994-09-07\n",
       "            ...    \n",
       "175675   2005-09-07\n",
       "175676   2005-09-07\n",
       "175677   2005-09-07\n",
       "175678   2005-09-07\n",
       "175679   2005-09-07\n",
       "Name: PurchaseDate, Length: 175680, dtype: datetime64[ns]"
      ]
     },
     "execution_count": 19,
     "metadata": {},
     "output_type": "execute_result"
    }
   ],
   "source": [
    "bank_loans['PurchaseDate'] = pd.to_datetime(bank_loans['PurchaseDate'])\n",
    "bank_loans['PurchaseDate']"
   ]
  },
  {
   "cell_type": "code",
   "execution_count": 20,
   "metadata": {
    "id": "W6GHBe0QnQsk"
   },
   "outputs": [],
   "source": [
    "from scipy.optimize import fsolve\n",
    "#!pip install numpy_financial\n",
    "#import numpy_financial as npf"
   ]
  },
  {
   "cell_type": "code",
   "execution_count": 21,
   "metadata": {
    "id": "8_B6yegWxpYS"
   },
   "outputs": [],
   "source": [
    "# Function to solve : with multiple rf\n",
    "def YTM_equation(P0, rf, c, FV, M, s):\n",
    "    \"\"\"\n",
    "    Input: \n",
    "    P0: current price (purchase price), \n",
    "    rf: a series of rf with M different elements, \n",
    "    c: coupon rate for each term, \n",
    "    FV: face value \n",
    "    M: number of payments\n",
    "    s: a fixed spread (period)\n",
    "    \"\"\"\n",
    "    # IRR series\n",
    "    IRR_series = list(map(lambda x:x+s+1, rf)) # IRR = rf + s\n",
    "    IRR_series.insert(0,1) # 1, rf1+s, rf2+s, ... rfm+s (m+1)\n",
    "    # Payment sequence\n",
    "    payment_series = np.repeat(c * FV, M + 1) # Coupon payments, 0,1,...,M\n",
    "    payment_series[0] = -1 * P0 # At t = 0 we buy the bond.\n",
    "    payment_series[M] += FV # Last payment includes the principal.\n",
    "\n",
    "    pv = list()\n",
    "    for i in range(M):\n",
    "        pv1 = payment_series[i+1] / (IRR_series[i+1] ** (i+1))\n",
    "        pv.append(pv1)\n",
    "        sol = sum(pv) + payment_series[0] # present value of all payments\n",
    "    return(sol)"
   ]
  },
  {
   "cell_type": "code",
   "execution_count": 22,
   "metadata": {
    "colab": {
     "base_uri": "https://localhost:8080/",
     "height": 34
    },
    "collapsed": true,
    "id": "z7KC4_0YUd-_",
    "jupyter": {
     "outputs_hidden": true,
     "source_hidden": true
    },
    "outputId": "a75d29c9-12c8-472d-8607-ae78e2ec46e5"
   },
   "outputs": [
    {
     "data": {
      "text/plain": [
       "-11.218434343434325"
      ]
     },
     "execution_count": 22,
     "metadata": {},
     "output_type": "execute_result"
    }
   ],
   "source": [
    "# Test for YTM equation\n",
    "IRR_series = [1, 1.1, 1.2, 1.2]\n",
    "payment_series = [-80, 5, 5, 105]\n",
    "M = 3\n",
    "pv = list()\n",
    "for i in range(M):\n",
    "      pv1 = payment_series[i+1] / (IRR_series[i+1] ** (i+1))\n",
    "      pv.append(pv1)\n",
    "sol = sum(pv) + payment_series[0] # present value of all payments\n",
    "sol"
   ]
  },
  {
   "cell_type": "code",
   "execution_count": 23,
   "metadata": {
    "id": "eNcMWv3myGsC"
   },
   "outputs": [],
   "source": [
    "def get_rf_series(date, m, periodfactor):\n",
    "    \"\"\"\n",
    "    Input:\n",
    "    date: date of pricing the bonds\n",
    "    m: number of future payments\n",
    "    periodfactor = 12 if monthly paid, 4 if quarterly paid, i if yearly paid\n",
    "    use m and date as indeces and find rfs from the yield curves\n",
    "    Return a series of risk free rates\n",
    "    \"\"\"\n",
    "    m_grid = np.arange(1,m+1,1) # m_grid = 1,2,...,m\n",
    "    factor = np.repeat(1/periodfactor, m)  # 1/12,1/12,...1/12\n",
    "    m_series = m_grid*factor #1/12, 2/12, ..., m/12\n",
    "    m_series = np.round(m_series/0.25,0)*0.25 \n",
    "    m_series = np.where(m_series>30,30,m_series)\n",
    "    m0 = np.where(m_series==0)[0]\n",
    "    m_series[m0] = 0.25\n",
    "    date = np.repeat(date, m)\n",
    "    rf_yearly = yield_curves.loc[date,m_series]\n",
    "    rf_yearly.iloc[:,0]=0\n",
    "    rf_series_one_bond = rf_yearly/periodfactor\n",
    "    rf_series_one_bond = rf_series_one_bond.iloc[0,:]\n",
    "    return rf_series_one_bond"
   ]
  },
  {
   "cell_type": "code",
   "execution_count": 22,
   "metadata": {
    "collapsed": true,
    "jupyter": {
     "outputs_hidden": true,
     "source_hidden": true
    }
   },
   "outputs": [
    {
     "data": {
      "text/plain": [
       "0.25    0.000000\n",
       "0.25    0.004709\n",
       "0.25    0.004709\n",
       "0.25    0.004709\n",
       "0.50    0.005187\n",
       "0.50    0.005187\n",
       "0.50    0.005187\n",
       "0.75    0.005578\n",
       "0.75    0.005578\n",
       "0.75    0.005578\n",
       "1.00    0.005883\n",
       "1.00    0.005883\n",
       "Name: 1994-09-07 00:00:00, dtype: float64"
      ]
     },
     "execution_count": 22,
     "metadata": {},
     "output_type": "execute_result"
    }
   ],
   "source": [
    "###Test\n",
    "m=12\n",
    "periodfactor=12\n",
    "date = bank_loans['PurchaseDate'][0]\n",
    "\n",
    "m_grid = np.arange(1,m+1,1) # m_grid = 1,2,...,m\n",
    "factor = np.repeat(1/periodfactor, m)  # 1/12,1/12,...1/12\n",
    "m_series = m_grid*factor #1/12, 2/12, ..., m/12\n",
    "m_series = np.round(m_series/0.25,0)*0.25 \n",
    "m_series = np.where(m_series>30,30,m_series)\n",
    "#print(m_series)\n",
    "m0 = np.where(m_series==0)[0]\n",
    "#print(m0)\n",
    "m_series[m0] = 0.25\n",
    "#print(m_series)\n",
    "date = np.repeat(date, m)\n",
    "#print(date)\n",
    "rf_yearly = yield_curves.loc[date,m_series]\n",
    "#print(rf_yearly)\n",
    "#print(rf_yearly.iloc[:,0])\n",
    "rf_yearly.iloc[:,0]=0\n",
    "rf_series_one_bond = rf_yearly/periodfactor\n",
    "rf_series_one_bond = rf_series_one_bond.iloc[0,:]\n",
    "rf_series_one_bond"
   ]
  },
  {
   "cell_type": "code",
   "execution_count": 24,
   "metadata": {},
   "outputs": [
    {
     "data": {
      "text/plain": [
       "array([0.01080518])"
      ]
     },
     "execution_count": 24,
     "metadata": {},
     "output_type": "execute_result"
    }
   ],
   "source": [
    "###Test\n",
    "P0 = bank_loans['PurchasePrice'][0]\n",
    "d = bank_loans['PurchaseDate'][0]\n",
    "f = bank_loans['PeriodFactor'][0]\n",
    "m = bank_loans['Payments'][0]\n",
    "FV = bank_loans['FaceValue'][0]\n",
    "c = bank_loans['CouponRatePeriod'][0]\n",
    "\n",
    "fsolve(lambda x: YTM_equation(s=x, P0=P0,rf = get_rf_series(date=d, m=m, periodfactor=f),FV = FV,c=c,M=m), x0=0,xtol = 1.49012e-10)"
   ]
  },
  {
   "cell_type": "code",
   "execution_count": 25,
   "metadata": {
    "id": "kdVe5oGBqF5T"
   },
   "outputs": [
    {
     "name": "stderr",
     "output_type": "stream",
     "text": [
      "/Users/mac/opt/anaconda3/lib/python3.7/site-packages/scipy/optimize/minpack.py:162: RuntimeWarning: The iteration is not making good progress, as measured by the \n",
      "  improvement from the last ten iterations.\n",
      "  warnings.warn(msg, RuntimeWarning)\n"
     ]
    }
   ],
   "source": [
    "# Compute period spreads \n",
    "bank_loans['Spread_Period'] = bank_loans.apply(\n",
    "    lambda row: fsolve(lambda x: YTM_equation(s=x, P0=row['PurchasePrice'],rf = get_rf_series(date=row['PurchaseDate'], m=row['Payments'], periodfactor=row['PeriodFactor']),FV = row['FaceValue'],c=row['CouponRatePeriod'],M=row['Payments']), x0=0,xtol = 1.49012e-10),\n",
    "    axis=1)"
   ]
  },
  {
   "cell_type": "code",
   "execution_count": 26,
   "metadata": {
    "collapsed": true,
    "jupyter": {
     "outputs_hidden": true,
     "source_hidden": true
    }
   },
   "outputs": [
    {
     "data": {
      "text/plain": [
       "0          [0.010805180252533093]\n",
       "1          [0.006493492518722265]\n",
       "2            [0.1693175486071359]\n",
       "3           [0.04488745089692511]\n",
       "4           [0.10355520365860739]\n",
       "                   ...           \n",
       "175675     [0.004168249313994058]\n",
       "175676     [0.046082030756982036]\n",
       "175677     [0.007677713239506383]\n",
       "175678     [0.007387770040757388]\n",
       "175679    [0.0022962906408300035]\n",
       "Name: Spread_Period, Length: 175680, dtype: object"
      ]
     },
     "execution_count": 26,
     "metadata": {},
     "output_type": "execute_result"
    }
   ],
   "source": [
    "bank_loans['Spread_Period']"
   ]
  },
  {
   "cell_type": "code",
   "execution_count": 27,
   "metadata": {},
   "outputs": [],
   "source": [
    "bank_loans['Spread_Period'] = bank_loans['Spread_Period'].apply(lambda x: x[0])"
   ]
  },
  {
   "cell_type": "code",
   "execution_count": 29,
   "metadata": {},
   "outputs": [
    {
     "data": {
      "text/plain": [
       "0     0.010805\n",
       "1     0.006493\n",
       "2     0.169318\n",
       "3     0.044887\n",
       "4     0.103555\n",
       "5     0.005607\n",
       "6     0.134289\n",
       "7     0.004311\n",
       "8     0.002665\n",
       "9     0.004322\n",
       "10    0.005022\n",
       "11    0.020145\n",
       "12    0.085518\n",
       "13    0.009585\n",
       "14    0.056523\n",
       "Name: Spread_Period, dtype: float64"
      ]
     },
     "execution_count": 29,
     "metadata": {},
     "output_type": "execute_result"
    }
   ],
   "source": [
    "bank_loans['Spread_Period'].head(15)"
   ]
  },
  {
   "cell_type": "code",
   "execution_count": 30,
   "metadata": {
    "id": "QSUO0nwO3Z7Q"
   },
   "outputs": [],
   "source": [
    "bank_loans['Spread'] = bank_loans['Spread_Period'] * bank_loans['PeriodFactor']"
   ]
  },
  {
   "cell_type": "code",
   "execution_count": 31,
   "metadata": {
    "colab": {
     "base_uri": "https://localhost:8080/",
     "height": 298
    },
    "id": "RomOrWr64du4",
    "outputId": "b15d8197-44f1-4530-c7a3-aaea062e9d8b"
   },
   "outputs": [
    {
     "data": {
      "text/plain": [
       "0     0.129662\n",
       "1     0.077922\n",
       "2     0.169318\n",
       "3     0.044887\n",
       "4     0.103555\n",
       "5     0.067282\n",
       "6     0.134289\n",
       "7     0.051730\n",
       "8     0.031983\n",
       "9     0.051870\n",
       "10    0.020087\n",
       "11    0.080581\n",
       "12    0.085518\n",
       "13    0.115015\n",
       "14    0.056523\n",
       "Name: Spread, dtype: float64"
      ]
     },
     "execution_count": 31,
     "metadata": {},
     "output_type": "execute_result"
    }
   ],
   "source": [
    "bank_loans['Spread'].head(15)"
   ]
  },
  {
   "cell_type": "markdown",
   "metadata": {
    "id": "xOc2VuXEckAH"
   },
   "source": [
    "### 1(b) Use the previously calculated **spread**, the **yield curve at September 14th, 2020**, and the **information of the bonds** to price them, so they reflect the current market price for the purposes of capital requirement calculations. Compare the original price with September 15th price. What can you say about the risk-free rates and bond prices?"
   ]
  },
  {
   "cell_type": "code",
   "execution_count": 32,
   "metadata": {
    "colab": {
     "base_uri": "https://localhost:8080/",
     "height": 34
    },
    "id": "IR2uOIl1_cVY",
    "outputId": "2f9de541-a78e-4f45-8cf3-c1cec110bd30"
   },
   "outputs": [
    {
     "data": {
      "text/plain": [
       "Timestamp('2020-08-26 00:00:00')"
      ]
     },
     "execution_count": 32,
     "metadata": {},
     "output_type": "execute_result"
    }
   ],
   "source": [
    "# Current date\n",
    "date = yield_curves.index[-1]\n",
    "date"
   ]
  },
  {
   "cell_type": "code",
   "execution_count": 33,
   "metadata": {
    "id": "9gpo-la73Fdb"
   },
   "outputs": [],
   "source": [
    "# Solve the current price, using the spreads\n",
    "bank_loans['CurrentPrice'] = bank_loans.apply(\n",
    "    lambda row: fsolve(lambda x: YTM_equation(P0=x, rf = get_rf_series(date=date, m=row['CouponsRemaining'], periodfactor=row['PeriodFactor']),FV = row['FaceValue'],c=row['CouponRatePeriod'],M=row['CouponsRemaining'],s=row['Spread_Period']), x0=10000,xtol = 1.49012e-10),\n",
    "    axis=1)"
   ]
  },
  {
   "cell_type": "code",
   "execution_count": 34,
   "metadata": {
    "collapsed": true,
    "jupyter": {
     "outputs_hidden": true,
     "source_hidden": true
    }
   },
   "outputs": [
    {
     "data": {
      "text/plain": [
       "0         [154767.35622587916]\n",
       "1          [223936.4625396193]\n",
       "2         [107027.59766964792]\n",
       "3         [166108.86186905144]\n",
       "4          [97638.99089517315]\n",
       "                  ...         \n",
       "175675    [110669.39607270088]\n",
       "175676    [114217.11613815323]\n",
       "175677     [96983.05807868991]\n",
       "175678     [98272.03919502818]\n",
       "175679    [144152.00514958033]\n",
       "Name: CurrentPrice, Length: 175680, dtype: object"
      ]
     },
     "execution_count": 34,
     "metadata": {},
     "output_type": "execute_result"
    }
   ],
   "source": [
    "bank_loans['CurrentPrice']"
   ]
  },
  {
   "cell_type": "code",
   "execution_count": 35,
   "metadata": {},
   "outputs": [],
   "source": [
    "bank_loans['CurrentPrice'] = bank_loans['CurrentPrice'].apply(lambda x: x[0])"
   ]
  },
  {
   "cell_type": "code",
   "execution_count": 36,
   "metadata": {
    "colab": {
     "base_uri": "https://localhost:8080/",
     "height": 298
    },
    "id": "CIvVeeap3eVA",
    "outputId": "f24b88f9-553b-4258-f736-caaa500a95a4"
   },
   "outputs": [
    {
     "data": {
      "text/plain": [
       "0         154767.356226\n",
       "1         223936.462540\n",
       "2         107027.597670\n",
       "3         166108.861869\n",
       "4          97638.990895\n",
       "              ...      \n",
       "175675    110669.396073\n",
       "175676    114217.116138\n",
       "175677     96983.058079\n",
       "175678     98272.039195\n",
       "175679    144152.005150\n",
       "Name: CurrentPrice, Length: 175680, dtype: float64"
      ]
     },
     "execution_count": 36,
     "metadata": {},
     "output_type": "execute_result"
    }
   ],
   "source": [
    "bank_loans['CurrentPrice']"
   ]
  },
  {
   "cell_type": "code",
   "execution_count": 37,
   "metadata": {
    "id": "QrqckIW40Q54"
   },
   "outputs": [],
   "source": [
    "# Price changes\n",
    "bank_loans['PriceDifference'] = bank_loans['CurrentPrice'] - bank_loans['PurchasePrice']"
   ]
  },
  {
   "cell_type": "code",
   "execution_count": 38,
   "metadata": {
    "colab": {
     "base_uri": "https://localhost:8080/",
     "height": 298
    },
    "id": "UkoKU3YnnV7w",
    "outputId": "871c623f-2483-481c-cf17-1c944b17a3e2"
   },
   "outputs": [
    {
     "data": {
      "text/plain": [
       "0          56659.626226\n",
       "1         102631.462540\n",
       "2          32267.747670\n",
       "3          94273.571869\n",
       "4          39723.990895\n",
       "              ...      \n",
       "175675     32343.396073\n",
       "175676     39680.126138\n",
       "175677     29259.178079\n",
       "175678     32898.379195\n",
       "175679     47923.845150\n",
       "Name: PriceDifference, Length: 175680, dtype: float64"
      ]
     },
     "execution_count": 38,
     "metadata": {},
     "output_type": "execute_result"
    }
   ],
   "source": [
    "bank_loans['PriceDifference'] # looks like most are positive"
   ]
  },
  {
   "cell_type": "code",
   "execution_count": 45,
   "metadata": {},
   "outputs": [
    {
     "data": {
      "text/html": [
       "<div>\n",
       "<style scoped>\n",
       "    .dataframe tbody tr th:only-of-type {\n",
       "        vertical-align: middle;\n",
       "    }\n",
       "\n",
       "    .dataframe tbody tr th {\n",
       "        vertical-align: top;\n",
       "    }\n",
       "\n",
       "    .dataframe thead th {\n",
       "        text-align: right;\n",
       "    }\n",
       "</style>\n",
       "<table border=\"1\" class=\"dataframe\">\n",
       "  <thead>\n",
       "    <tr style=\"text-align: right;\">\n",
       "      <th></th>\n",
       "      <th>CurrentPrice</th>\n",
       "      <th>PurchasePrice</th>\n",
       "      <th>PriceDifference</th>\n",
       "    </tr>\n",
       "  </thead>\n",
       "  <tbody>\n",
       "    <tr>\n",
       "      <th>192</th>\n",
       "      <td>169715.649613</td>\n",
       "      <td>173844.39</td>\n",
       "      <td>-4128.740387</td>\n",
       "    </tr>\n",
       "    <tr>\n",
       "      <th>1406</th>\n",
       "      <td>80025.103813</td>\n",
       "      <td>80095.89</td>\n",
       "      <td>-70.786187</td>\n",
       "    </tr>\n",
       "    <tr>\n",
       "      <th>1411</th>\n",
       "      <td>77872.623053</td>\n",
       "      <td>77995.23</td>\n",
       "      <td>-122.606947</td>\n",
       "    </tr>\n",
       "    <tr>\n",
       "      <th>1412</th>\n",
       "      <td>67894.421569</td>\n",
       "      <td>67899.30</td>\n",
       "      <td>-4.878431</td>\n",
       "    </tr>\n",
       "    <tr>\n",
       "      <th>1416</th>\n",
       "      <td>79150.543294</td>\n",
       "      <td>79179.54</td>\n",
       "      <td>-28.996706</td>\n",
       "    </tr>\n",
       "    <tr>\n",
       "      <th>...</th>\n",
       "      <td>...</td>\n",
       "      <td>...</td>\n",
       "      <td>...</td>\n",
       "    </tr>\n",
       "    <tr>\n",
       "      <th>174708</th>\n",
       "      <td>89355.899494</td>\n",
       "      <td>90712.53</td>\n",
       "      <td>-1356.630506</td>\n",
       "    </tr>\n",
       "    <tr>\n",
       "      <th>174711</th>\n",
       "      <td>65779.695413</td>\n",
       "      <td>65805.00</td>\n",
       "      <td>-25.304587</td>\n",
       "    </tr>\n",
       "    <tr>\n",
       "      <th>174712</th>\n",
       "      <td>68820.954423</td>\n",
       "      <td>69342.66</td>\n",
       "      <td>-521.705577</td>\n",
       "    </tr>\n",
       "    <tr>\n",
       "      <th>174713</th>\n",
       "      <td>82923.446695</td>\n",
       "      <td>83922.24</td>\n",
       "      <td>-998.793305</td>\n",
       "    </tr>\n",
       "    <tr>\n",
       "      <th>175534</th>\n",
       "      <td>67517.699754</td>\n",
       "      <td>67586.00</td>\n",
       "      <td>-68.300246</td>\n",
       "    </tr>\n",
       "  </tbody>\n",
       "</table>\n",
       "<p>1418 rows × 3 columns</p>\n",
       "</div>"
      ],
      "text/plain": [
       "         CurrentPrice  PurchasePrice  PriceDifference\n",
       "192     169715.649613      173844.39     -4128.740387\n",
       "1406     80025.103813       80095.89       -70.786187\n",
       "1411     77872.623053       77995.23      -122.606947\n",
       "1412     67894.421569       67899.30        -4.878431\n",
       "1416     79150.543294       79179.54       -28.996706\n",
       "...               ...            ...              ...\n",
       "174708   89355.899494       90712.53     -1356.630506\n",
       "174711   65779.695413       65805.00       -25.304587\n",
       "174712   68820.954423       69342.66      -521.705577\n",
       "174713   82923.446695       83922.24      -998.793305\n",
       "175534   67517.699754       67586.00       -68.300246\n",
       "\n",
       "[1418 rows x 3 columns]"
      ]
     },
     "execution_count": 45,
     "metadata": {},
     "output_type": "execute_result"
    }
   ],
   "source": [
    "# check those decreased prices: only 1418 bonds have decreased prices\n",
    "bank_loans[['CurrentPrice','PurchasePrice','PriceDifference']].iloc[np.where(bank_loans['PriceDifference']<0)[0]]"
   ]
  },
  {
   "cell_type": "code",
   "execution_count": 46,
   "metadata": {},
   "outputs": [],
   "source": [
    "# % Price changes \n",
    "bank_loans['PriceChange%'] = ( bank_loans['CurrentPrice'] - bank_loans['PurchasePrice'] ) / bank_loans['PurchasePrice']"
   ]
  },
  {
   "cell_type": "code",
   "execution_count": 48,
   "metadata": {},
   "outputs": [
    {
     "data": {
      "text/plain": [
       "0.42980876990253003"
      ]
     },
     "execution_count": 48,
     "metadata": {},
     "output_type": "execute_result"
    }
   ],
   "source": [
    "# the percentile change is significant\n",
    "bank_loans['PriceChange%'].mean()"
   ]
  },
  {
   "cell_type": "markdown",
   "metadata": {
    "id": "or49o6oeq47k"
   },
   "source": [
    "### c. (20%) Calculate the total provisions and capital requirement each operation brings using the prices you just calculated. Report the total provision for the business line and the total capital requirement for that business line. For LGD in corporate, assume the standard Basel weights (i.e. use foundational approach). "
   ]
  },
  {
   "cell_type": "code",
   "execution_count": 49,
   "metadata": {
    "id": "4Sa3D_VK45k8"
   },
   "outputs": [],
   "source": [
    "# Time to maturity: when TTM > 30, make it 30\n",
    "bank_loans['TTM'] = bank_loans['CouponsRemaining'] / bank_loans['PeriodFactor']\n",
    "bank_loans['TTM_Upper30'] = np.where(bank_loans['TTM']>30,30,bank_loans['TTM'])"
   ]
  },
  {
   "cell_type": "code",
   "execution_count": 50,
   "metadata": {
    "colab": {
     "base_uri": "https://localhost:8080/",
     "height": 298
    },
    "id": "gbQsElUX5GNP",
    "outputId": "b811f20f-e802-44e1-c34d-4808c8889ef4"
   },
   "outputs": [
    {
     "data": {
      "text/plain": [
       "0         27.250000\n",
       "1         29.916667\n",
       "2         19.000000\n",
       "3         30.000000\n",
       "4         30.000000\n",
       "            ...    \n",
       "175675    11.916667\n",
       "175676    30.000000\n",
       "175677     1.166667\n",
       "175678     0.583333\n",
       "175679    15.666667\n",
       "Name: TTM_Upper30, Length: 175680, dtype: float64"
      ]
     },
     "execution_count": 50,
     "metadata": {},
     "output_type": "execute_result"
    }
   ],
   "source": [
    "bank_loans['TTM_Upper30']"
   ]
  },
  {
   "cell_type": "code",
   "execution_count": 51,
   "metadata": {},
   "outputs": [],
   "source": [
    "# percentiles\n",
    "percentile5 = np.percentile(bank_loans['Spread'], 5)\n",
    "percentile20 = np.percentile(bank_loans['Spread'], 20)\n",
    "percentile40 = np.percentile(bank_loans['Spread'], 40)\n",
    "percentile60 = np.percentile(bank_loans['Spread'], 60)\n",
    "percentile75 = np.percentile(bank_loans['Spread'], 75)\n",
    "percentile90 = np.percentile(bank_loans['Spread'], 90)"
   ]
  },
  {
   "cell_type": "code",
   "execution_count": 53,
   "metadata": {
    "collapsed": true,
    "jupyter": {
     "outputs_hidden": true,
     "source_hidden": true
    }
   },
   "outputs": [
    {
     "data": {
      "text/plain": [
       "0.162702463741515"
      ]
     },
     "execution_count": 53,
     "metadata": {},
     "output_type": "execute_result"
    }
   ],
   "source": [
    "percentile90"
   ]
  },
  {
   "cell_type": "code",
   "execution_count": 54,
   "metadata": {
    "id": "vV6-ZJOKpKSN"
   },
   "outputs": [],
   "source": [
    "# PD\n",
    "bank_loans['PD'] = 0.001 # lower than 5%\n",
    "bank_loans['PD'] = np.where((bank_loans['Spread'] > percentile5) & (bank_loans['Spread'] <= percentile20), 0.01, bank_loans['PD'])\n",
    "bank_loans['PD'] = np.where((bank_loans['Spread'] > percentile20) & (bank_loans['Spread'] <= percentile40), 0.12, bank_loans['PD'])\n",
    "bank_loans['PD'] = np.where((bank_loans['Spread'] > percentile40) & (bank_loans['Spread'] <= percentile60), 0.36, bank_loans['PD'])\n",
    "bank_loans['PD'] = np.where((bank_loans['Spread'] > percentile60) & (bank_loans['Spread'] <= percentile75), 0.52, bank_loans['PD'])\n",
    "bank_loans['PD'] = np.where((bank_loans['Spread'] > percentile75) & (bank_loans['Spread'] <= percentile90), 0.75, bank_loans['PD'])\n",
    "bank_loans['PD'] = np.where(bank_loans['Spread'] > percentile90, 0.85, bank_loans['PD'])"
   ]
  },
  {
   "cell_type": "code",
   "execution_count": 55,
   "metadata": {
    "colab": {
     "base_uri": "https://localhost:8080/",
     "height": 298
    },
    "collapsed": true,
    "id": "AC2RxxdbqE6J",
    "jupyter": {
     "outputs_hidden": true,
     "source_hidden": true
    },
    "outputId": "9540962c-d37d-4e3a-a36f-5195c8089812"
   },
   "outputs": [
    {
     "data": {
      "text/plain": [
       "0         0.75\n",
       "1         0.36\n",
       "2         0.85\n",
       "3         0.01\n",
       "4         0.52\n",
       "          ... \n",
       "175675    0.12\n",
       "175676    0.01\n",
       "175677    0.36\n",
       "175678    0.36\n",
       "175679    0.01\n",
       "Name: PD, Length: 175680, dtype: float64"
      ]
     },
     "execution_count": 55,
     "metadata": {},
     "output_type": "execute_result"
    }
   ],
   "source": [
    "bank_loans['PD']"
   ]
  },
  {
   "cell_type": "code",
   "execution_count": 68,
   "metadata": {},
   "outputs": [],
   "source": [
    "# EAD\n",
    "bank_loans['EAD'] = bank_loans['CurrentPrice']"
   ]
  },
  {
   "cell_type": "code",
   "execution_count": 69,
   "metadata": {
    "collapsed": true,
    "jupyter": {
     "outputs_hidden": true,
     "source_hidden": true
    }
   },
   "outputs": [
    {
     "data": {
      "text/plain": [
       "0         154767.356226\n",
       "1         223936.462540\n",
       "2         107027.597670\n",
       "3         166108.861869\n",
       "4          97638.990895\n",
       "              ...      \n",
       "175675    110669.396073\n",
       "175676    114217.116138\n",
       "175677     96983.058079\n",
       "175678     98272.039195\n",
       "175679    144152.005150\n",
       "Name: EAD, Length: 175680, dtype: float64"
      ]
     },
     "execution_count": 69,
     "metadata": {},
     "output_type": "execute_result"
    }
   ],
   "source": [
    "bank_loans['EAD']"
   ]
  },
  {
   "cell_type": "code",
   "execution_count": 70,
   "metadata": {},
   "outputs": [],
   "source": [
    "bank_loans['LGD'] = 0.75"
   ]
  },
  {
   "cell_type": "code",
   "execution_count": 71,
   "metadata": {
    "collapsed": true,
    "jupyter": {
     "outputs_hidden": true,
     "source_hidden": true
    }
   },
   "outputs": [
    {
     "data": {
      "text/plain": [
       "0         0.75\n",
       "1         0.75\n",
       "2         0.75\n",
       "3         0.75\n",
       "4         0.75\n",
       "          ... \n",
       "175675    0.75\n",
       "175676    0.75\n",
       "175677    0.75\n",
       "175678    0.75\n",
       "175679    0.75\n",
       "Name: LGD, Length: 175680, dtype: float64"
      ]
     },
     "execution_count": 71,
     "metadata": {},
     "output_type": "execute_result"
    }
   ],
   "source": [
    "bank_loans['LGD']"
   ]
  },
  {
   "cell_type": "code",
   "execution_count": 72,
   "metadata": {
    "id": "4uzRJpKrp76P"
   },
   "outputs": [],
   "source": [
    "bank_loans['Provisions'] = bank_loans['PD'] * bank_loans['LGD'] * bank_loans['EAD'] * bank_loans['BondsHeld']"
   ]
  },
  {
   "cell_type": "code",
   "execution_count": 73,
   "metadata": {},
   "outputs": [
    {
     "data": {
      "text/plain": [
       "0         2.263473e+06\n",
       "1         5.441656e+05\n",
       "2         6.823009e+05\n",
       "3         7.350317e+05\n",
       "4         2.703624e+06\n",
       "              ...     \n",
       "175675    1.543838e+06\n",
       "175676    2.569885e+04\n",
       "175677    7.855628e+04\n",
       "175678    3.980018e+05\n",
       "175679    8.108550e+05\n",
       "Name: Provisions, Length: 175680, dtype: float64"
      ]
     },
     "execution_count": 73,
     "metadata": {},
     "output_type": "execute_result"
    }
   ],
   "source": [
    "bank_loans['Provisions']"
   ]
  },
  {
   "cell_type": "code",
   "execution_count": 77,
   "metadata": {},
   "outputs": [],
   "source": [
    "def total_capital_requirement(PD, LGD, EAD, TTM, N_bonds):\n",
    "    from scipy.stats import norm\n",
    "    b = (0.11852-0.05478*np.log(PD))**2\n",
    "    R =  0.12 * ( (1 - np.exp(-50 * PD)) / (1 - np.exp(-50)) )\n",
    "    R += 0.24 * (1 - ( (1 - np.exp(-50 * PD)) / (1 - np.exp(-50)) ) )\n",
    "    # Time factor \n",
    "    time_factor = (1+(TTM-2.5)*b)/(1-1.5*b)\n",
    "    # Now we can calculate the capital\n",
    "    K = norm.cdf(np.sqrt( (1 - R) ** (-1) ) * norm.ppf(PD) + \n",
    "               np.sqrt( R / (1 - R) ) * norm.ppf(0.999) ) - PD\n",
    "    K *= LGD\n",
    "    K *= time_factor\n",
    "    K *= EAD \n",
    "    K *= N_bonds\n",
    "    return K "
   ]
  },
  {
   "cell_type": "code",
   "execution_count": 78,
   "metadata": {},
   "outputs": [],
   "source": [
    "bank_loans['CapRequirements'] = bank_loans.apply(lambda x: total_capital_requirement(x['PD'], x['LGD'], x['EAD'], x['TTM_Upper30'],x['BondsHeld']),axis=1)"
   ]
  },
  {
   "cell_type": "code",
   "execution_count": 79,
   "metadata": {
    "colab": {
     "base_uri": "https://localhost:8080/",
     "height": 125
    },
    "id": "yxHuoIpwvVMm",
    "outputId": "a8148a17-61f7-41cb-d2ad-a9aaf07aa649"
   },
   "outputs": [
    {
     "data": {
      "text/plain": [
       "0         9.805197e+05\n",
       "1         1.209136e+06\n",
       "2         1.435885e+05\n",
       "3         5.767281e+07\n",
       "4         3.247320e+06\n",
       "              ...     \n",
       "175675    7.159795e+06\n",
       "175676    2.016410e+06\n",
       "175677    9.127665e+04\n",
       "175678    4.538884e+05\n",
       "175679    3.739762e+07\n",
       "Name: CapRequirements, Length: 175680, dtype: float64"
      ]
     },
     "execution_count": 79,
     "metadata": {},
     "output_type": "execute_result"
    }
   ],
   "source": [
    "bank_loans['CapRequirements']"
   ]
  },
  {
   "cell_type": "code",
   "execution_count": 84,
   "metadata": {},
   "outputs": [
    {
     "name": "stdout",
     "output_type": "stream",
     "text": [
      "The total capital requirement is $ 2425107396670.678\n"
     ]
    }
   ],
   "source": [
    "print(\"The total capital requirement is $\", bank_loans['CapRequirements'].sum() )"
   ]
  },
  {
   "cell_type": "code",
   "execution_count": 85,
   "metadata": {},
   "outputs": [
    {
     "name": "stdout",
     "output_type": "stream",
     "text": [
      "The total provisions is $ 1204999612501.959\n"
     ]
    }
   ],
   "source": [
    "print(\"The total provisions is $\", bank_loans['Provisions'].sum() )"
   ]
  },
  {
   "cell_type": "code",
   "execution_count": 86,
   "metadata": {},
   "outputs": [
    {
     "name": "stdout",
     "output_type": "stream",
     "text": [
      "Requirement already satisfied: xlwt in ./opt/anaconda3/lib/python3.7/site-packages (1.3.0)\n"
     ]
    }
   ],
   "source": [
    "!pip install xlwt"
   ]
  },
  {
   "cell_type": "code",
   "execution_count": 89,
   "metadata": {},
   "outputs": [],
   "source": [
    "bank_loans.to_excel('Dataset_1011.xlsx',sheet_name='bank_loans',header=True)"
   ]
  },
  {
   "cell_type": "code",
   "execution_count": null,
   "metadata": {},
   "outputs": [],
   "source": []
  },
  {
   "cell_type": "code",
   "execution_count": null,
   "metadata": {},
   "outputs": [],
   "source": []
  },
  {
   "cell_type": "code",
   "execution_count": null,
   "metadata": {},
   "outputs": [],
   "source": []
  }
 ],
 "metadata": {
  "colab": {
   "collapsed_sections": [],
   "name": "Assignment1.ipynb",
   "provenance": []
  },
  "kernelspec": {
   "display_name": "Python 3",
   "language": "python",
   "name": "python3"
  },
  "language_info": {
   "codemirror_mode": {
    "name": "ipython",
    "version": 3
   },
   "file_extension": ".py",
   "mimetype": "text/x-python",
   "name": "python",
   "nbconvert_exporter": "python",
   "pygments_lexer": "ipython3",
   "version": "3.7.6"
  }
 },
 "nbformat": 4,
 "nbformat_minor": 4
}
